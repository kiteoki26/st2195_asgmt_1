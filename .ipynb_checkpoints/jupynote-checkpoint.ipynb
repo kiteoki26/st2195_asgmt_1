{
 "cells": [
  {
   "cell_type": "markdown",
   "id": "190fe37d",
   "metadata": {},
   "source": [
    "# My first assignment"
   ]
  },
  {
   "cell_type": "markdown",
   "id": "0db0e176",
   "metadata": {},
   "source": [
    "## Spyder Project\n",
    "\n",
    "This project contains a simple Python script that prints all integers between 1 and 10 (inclusive).\n"
   ]
  },
  {
   "cell_type": "code",
   "execution_count": 2,
   "id": "40719e19",
   "metadata": {},
   "outputs": [
    {
     "name": "stdout",
     "output_type": "stream",
     "text": [
      "1\n",
      "2\n",
      "3\n",
      "4\n",
      "5\n",
      "6\n",
      "7\n",
      "8\n",
      "9\n",
      "10\n"
     ]
    }
   ],
   "source": [
    "for n in range(1,11):\n",
    "  print(n)"
   ]
  }
 ],
 "metadata": {
  "kernelspec": {
   "display_name": "Python 3",
   "language": "python",
   "name": "python3"
  },
  "language_info": {
   "codemirror_mode": {
    "name": "ipython",
    "version": 3
   },
   "file_extension": ".py",
   "mimetype": "text/x-python",
   "name": "python",
   "nbconvert_exporter": "python",
   "pygments_lexer": "ipython3",
   "version": "3.8.8"
  }
 },
 "nbformat": 4,
 "nbformat_minor": 5
}
